{
 "cells": [
  {
   "cell_type": "markdown",
   "metadata": {},
   "source": [
    "# Solution of the task 1:\n",
    "\n",
    "#### My approach is:\n",
    "\n",
    "1. Extract the file with graph to the dictionary format where key is the node and value is list of the nodes that are conncted to this node. For example if node 1 is connected with node 2 and 3, row of this dictionary looks like this { 1: [2,3]}\n",
    "\n",
    "2. Using graph Depth-first search find paths all path between all possible pairs of red and blue nodes. Tis will return list of lists (paths). For example in tsk 1, this will return [[5,4,2],[5,4,2],[5,4,2],[5,4,2]] \n",
    "\n",
    "3. Go through this list of paths and filter all paths (lists), that are superior to some other paths. For example if there would be paths [1,2,3] and [1,2,3,5,10], second path (list) will be filtered out because it is superpath to the first path.\n",
    "\n",
    "EDIT: This step is not actually needed and is ommited from the code.\n",
    "\n",
    "4. Final step is sort these paths according its lengths and go through paths and append to list of final paths path, if it has no intersection with already appened paths.\n",
    "\n",
    "Approach is tesed on cases 1-5 (as you can see below) and it gives correct solution, althought correctness of the solution is not guaranteed with proposed approach, but unfortunatelly it was the best that I figured out. Case 6 gives according to this solution as a result number of paths: 802, whereas the correct solution is 804.\n",
    "\n",
    "I did not use any external libraries. \n",
    "My version of python is 3.7.3."
   ]
  },
  {
   "cell_type": "code",
   "execution_count": 2,
   "metadata": {},
   "outputs": [
    {
     "name": "stdout",
     "output_type": "stream",
     "text": [
      "Testing file: 1\n",
      "\n",
      "Number of paths: 1\n",
      "Time elapsed: 0.000997781753540039\n",
      "--------------\n",
      "Testing file: 2\n",
      "\n",
      "Number of paths: 2\n",
      "Time elapsed: 0.0019941329956054688\n",
      "--------------\n",
      "Testing file: 3\n",
      "\n",
      "Number of paths: 1\n",
      "Time elapsed: 0.000997781753540039\n",
      "--------------\n",
      "Testing file: 4\n",
      "\n",
      "Number of paths: 6\n",
      "Time elapsed: 0.0029845237731933594\n",
      "--------------\n",
      "Testing file: 5\n",
      "\n",
      "Number of paths: 23\n",
      "Time elapsed: 0.0887610912322998\n",
      "--------------\n",
      "Testing file: 6\n",
      "\n",
      "Number of paths: 802\n",
      "Time elapsed: 5293.051961898804\n",
      "--------------\n"
     ]
    }
   ],
   "source": [
    "import time\n",
    "from script import compute\n",
    "\n",
    "for i in range(1,7):\n",
    "    print(f'Testing file: {i}')\n",
    "    print('')\n",
    "    path = f\"C:\\\\Users\\\\lubor.pacak\\\\Downloads\\\\data_cases\\\\data_cases\\\\case_0{i}.in\"\n",
    "    start = time.time()\n",
    "    print(f'Number of paths: {compute(path)}')\n",
    "    end = time.time()\n",
    "    print(f'Time elapsed: {end - start}')\n",
    "    print('--------------')"
   ]
  }
 ],
 "metadata": {
  "kernelspec": {
   "display_name": "Python 3",
   "language": "python",
   "name": "python3"
  },
  "language_info": {
   "codemirror_mode": {
    "name": "ipython",
    "version": 3
   },
   "file_extension": ".py",
   "mimetype": "text/x-python",
   "name": "python",
   "nbconvert_exporter": "python",
   "pygments_lexer": "ipython3",
   "version": "3.7.3"
  }
 },
 "nbformat": 4,
 "nbformat_minor": 4
}
